{
  "nbformat": 4,
  "nbformat_minor": 0,
  "metadata": {
    "colab": {
      "provenance": [],
      "authorship_tag": "ABX9TyM/Vs5T/0APpcTDLtFtWqjc",
      "include_colab_link": true
    },
    "kernelspec": {
      "name": "python3",
      "display_name": "Python 3"
    },
    "language_info": {
      "name": "python"
    }
  },
  "cells": [
    {
      "cell_type": "markdown",
      "metadata": {
        "id": "view-in-github",
        "colab_type": "text"
      },
      "source": [
        "<a href=\"https://colab.research.google.com/github/Muneeb-git-hub/Natural-language-Processing/blob/main/TF_IDF(Text_representation).ipynb\" target=\"_parent\"><img src=\"https://colab.research.google.com/assets/colab-badge.svg\" alt=\"Open In Colab\"/></a>"
      ]
    },
    {
      "cell_type": "code",
      "execution_count": 1,
      "metadata": {
        "id": "9qNAzUkkiDn7"
      },
      "outputs": [],
      "source": [
        "import pandas as pd\n",
        "import numpy as np"
      ]
    },
    {
      "cell_type": "code",
      "source": [
        "df=pd.DataFrame({'text':['people watch campux','campusx watch campusx','people write comment','campusx write comment'],'output':[1,1,0,0]})"
      ],
      "metadata": {
        "id": "xDJqtJhLi_Po"
      },
      "execution_count": 2,
      "outputs": []
    },
    {
      "cell_type": "code",
      "source": [
        "from sklearn.feature_extraction.text import TfidfVectorizer"
      ],
      "metadata": {
        "id": "Bx-I8ORmjB2x"
      },
      "execution_count": 3,
      "outputs": []
    },
    {
      "cell_type": "code",
      "source": [
        "tfidf=TfidfVectorizer()\n",
        "tfidf.fit_transform(df['text']).toarray()"
      ],
      "metadata": {
        "colab": {
          "base_uri": "https://localhost:8080/"
        },
        "id": "4Lqanz9ijPEX",
        "outputId": "51e29317-83ba-49eb-eb24-c0749e2ecf6f"
      },
      "execution_count": 4,
      "outputs": [
        {
          "output_type": "execute_result",
          "data": {
            "text/plain": [
              "array([[0.        , 0.66767854, 0.        , 0.52640543, 0.52640543,\n",
              "        0.        ],\n",
              "       [0.89442719, 0.        , 0.        , 0.        , 0.4472136 ,\n",
              "        0.        ],\n",
              "       [0.        , 0.        , 0.57735027, 0.57735027, 0.        ,\n",
              "        0.57735027],\n",
              "       [0.57735027, 0.        , 0.57735027, 0.        , 0.        ,\n",
              "        0.57735027]])"
            ]
          },
          "metadata": {},
          "execution_count": 4
        }
      ]
    },
    {
      "cell_type": "code",
      "source": [
        "print(tfidf.idf_)\n",
        "print(tfidf.get_feature_names_out())\n"
      ],
      "metadata": {
        "colab": {
          "base_uri": "https://localhost:8080/"
        },
        "id": "ymPsayHfjW4s",
        "outputId": "9e6e6de3-601b-47d9-e3b5-0663c2e8db86"
      },
      "execution_count": 6,
      "outputs": [
        {
          "output_type": "stream",
          "name": "stdout",
          "text": [
            "[1.51082562 1.91629073 1.51082562 1.51082562 1.51082562 1.51082562]\n",
            "['campusx' 'campux' 'comment' 'people' 'watch' 'write']\n"
          ]
        }
      ]
    },
    {
      "cell_type": "code",
      "source": [],
      "metadata": {
        "id": "DZSpzXZvjfQa"
      },
      "execution_count": null,
      "outputs": []
    }
  ]
}